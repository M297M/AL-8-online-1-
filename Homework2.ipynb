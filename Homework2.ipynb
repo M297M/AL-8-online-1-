{
 "cells": [
  {
   "cell_type": "code",
   "execution_count": null,
   "id": "8d410965",
   "metadata": {},
   "outputs": [],
   "source": []
  },
  {
   "cell_type": "code",
   "execution_count": null,
   "id": "7dc6236d",
   "metadata": {},
   "outputs": [],
   "source": []
  },
  {
   "cell_type": "markdown",
   "id": "09f55575",
   "metadata": {},
   "source": [
    "# HOMEWORK#2"
   ]
  },
  {
   "cell_type": "code",
   "execution_count": 67,
   "id": "ee5db5e6",
   "metadata": {},
   "outputs": [
    {
     "name": "stdout",
     "output_type": "stream",
     "text": [
      "print(\"me\")\n",
      "print('me')\n",
      "print('me\")\n",
      "you will learn \n",
      "a lot\n"
     ]
    }
   ],
   "source": [
    "x='print(\"me\")'\n",
    "print(x)\n",
    "y=\"print('me')\"\n",
    "print(y)\n",
    "a=\"print\" + \"('\" + 'me\")'\n",
    "print(a)\n",
    "print(\"you will learn \\na lot\")"
   ]
  },
  {
   "cell_type": "markdown",
   "id": "ca4daded",
   "metadata": {},
   "source": [
    "# Homework #3 :  Example 1: Program to print half pyramid using *"
   ]
  },
  {
   "cell_type": "code",
   "execution_count": 1,
   "id": "d6851899",
   "metadata": {},
   "outputs": [
    {
     "name": "stdout",
     "output_type": "stream",
     "text": [
      "*\n",
      "* *\n",
      "* * *\n",
      "* * * *\n",
      "* * * * *\n"
     ]
    }
   ],
   "source": [
    "print('*')\n",
    "print('* *')\n",
    "print('* * *')\n",
    "print('* * * *')\n",
    "print('* * * * *')"
   ]
  },
  {
   "cell_type": "code",
   "execution_count": 2,
   "id": "ddd1105b",
   "metadata": {},
   "outputs": [
    {
     "name": "stdout",
     "output_type": "stream",
     "text": [
      "Enter number of rows: 5\n",
      "* \n",
      "\n",
      "* * \n",
      "\n",
      "* * * \n",
      "\n",
      "* * * * \n",
      "\n",
      "* * * * * \n",
      "\n"
     ]
    }
   ],
   "source": [
    "rows = int(input(\"Enter number of rows: \"))\n",
    "\n",
    "for i in range(rows):\n",
    "    for j in range(i+1):\n",
    "        print(\"* \", end=\"\")\n",
    "    print(\"\\n\")"
   ]
  },
  {
   "cell_type": "markdown",
   "id": "1b55fc05",
   "metadata": {},
   "source": [
    "# Homework #4 : Program to print full pyramid using *"
   ]
  },
  {
   "cell_type": "code",
   "execution_count": 21,
   "id": "08ce2b54",
   "metadata": {},
   "outputs": [
    {
     "name": "stdout",
     "output_type": "stream",
     "text": [
      "Enter number of rows: 9\n",
      "                * \n",
      "              * * * \n",
      "            * * * * * \n",
      "          * * * * * * * \n",
      "        * * * * * * * * * \n",
      "      * * * * * * * * * * * \n",
      "    * * * * * * * * * * * * * \n"
     ]
    }
   ],
   "source": [
    "rows = int(input(\"Enter number of rows: \"))\n",
    "\n",
    "k = 0\n",
    "\n",
    "for i in range(1, rows-1):\n",
    "    for space in range(1, (rows-i)+1):\n",
    "        print(end=\"  \")\n",
    "   \n",
    "    while k!=(2*i-1):\n",
    "        print(\"* \", end=\"\")\n",
    "        k += 1\n",
    "   \n",
    "    k = 0\n",
    "    print()"
   ]
  },
  {
   "cell_type": "markdown",
   "id": "5a271c84",
   "metadata": {},
   "source": [
    "# Homework #5 :\n",
    "\n",
    "\n"
   ]
  },
  {
   "cell_type": "code",
   "execution_count": null,
   "id": "c4a5306c",
   "metadata": {},
   "outputs": [],
   "source": []
  },
  {
   "cell_type": "code",
   "execution_count": 30,
   "id": "d976b57d",
   "metadata": {},
   "outputs": [
    {
     "name": "stdout",
     "output_type": "stream",
     "text": [
      "    * \n",
      "   * * \n",
      "  * * * \n",
      " * * * * \n",
      "* * * * * \n",
      "* * * * * \n",
      " * * * * \n",
      "  * * * \n",
      "   * * \n",
      "    * \n"
     ]
    }
   ],
   "source": [
    "\n",
    "def fullPyramid():\n",
    "    for i in range(5):\n",
    "        for s in range(5, i+1, -1):\n",
    "            print(end=\" \")\n",
    "        for j in range(i + 1):\n",
    "            print(end=\"* \")\n",
    "        print()\n",
    "def invertedFullPyramid():\n",
    "    for i in range(5):\n",
    "        for s in range(i):\n",
    "            print(end=\" \")\n",
    "        for j in range(i, 5):\n",
    "            print(end=\"* \")\n",
    "        print()\n",
    "\n",
    "fullPyramid()\n",
    "invertedFullPyramid()"
   ]
  },
  {
   "cell_type": "code",
   "execution_count": 58,
   "id": "10951263",
   "metadata": {},
   "outputs": [
    {
     "name": "stdout",
     "output_type": "stream",
     "text": [
      "Enter Diamond Pattern Rows = 5\n",
      "Diamond Star Pattern\n",
      "    *\n",
      "   ***\n",
      "  *****\n",
      " *******\n",
      "*********\n",
      " *******\n",
      "  *****\n",
      "   ***\n",
      "    *\n"
     ]
    }
   ],
   "source": [
    "rows = int(input(\"Enter Diamond Pattern Rows = \"))\n",
    "\n",
    "print(\"Diamond Star Pattern\") \n",
    "k = 0\n",
    "for i in range(1, rows + 1):\n",
    "    for j in range(1, rows - i + 1):\n",
    "        print(end = ' ')\n",
    "    while k != 2 * i - 1:\n",
    "        print('*', end = '')\n",
    "        k = k + 1\n",
    "    k = 0\n",
    "    print()\n",
    "\n",
    "k = 2\n",
    "l = 1\n",
    "for i in range(1, rows):\n",
    "    for j in range(1, k):\n",
    "        print(end = ' ')\n",
    "    k = k + 1\n",
    "    while l <= (2 * (rows - i) - 1):\n",
    "        print('*', end = '')\n",
    "        l = l + 1\n",
    "    l = 1\n",
    "    print()"
   ]
  },
  {
   "cell_type": "markdown",
   "id": "3415b3aa",
   "metadata": {},
   "source": [
    "# HOMEWORK6:"
   ]
  },
  {
   "cell_type": "code",
   "execution_count": 60,
   "id": "9562adfb",
   "metadata": {},
   "outputs": [
    {
     "name": "stdout",
     "output_type": "stream",
     "text": [
      "Hi\n"
     ]
    }
   ],
   "source": [
    "print('Hi')"
   ]
  },
  {
   "cell_type": "code",
   "execution_count": 61,
   "id": "6f5d6eaf",
   "metadata": {},
   "outputs": [
    {
     "name": "stdout",
     "output_type": "stream",
     "text": [
      "\n"
     ]
    }
   ],
   "source": [
    "print()"
   ]
  },
  {
   "cell_type": "code",
   "execution_count": 62,
   "id": "93b2f60c",
   "metadata": {},
   "outputs": [
    {
     "name": "stdout",
     "output_type": "stream",
     "text": [
      "I am mayar\n"
     ]
    }
   ],
   "source": [
    "print(\"I am mayar\")"
   ]
  },
  {
   "cell_type": "code",
   "execution_count": 63,
   "id": "0d38daf5",
   "metadata": {},
   "outputs": [
    {
     "name": "stdout",
     "output_type": "stream",
     "text": [
      "18\n"
     ]
    }
   ],
   "source": [
    "print(3*6)"
   ]
  },
  {
   "cell_type": "code",
   "execution_count": 65,
   "id": "12e16de6",
   "metadata": {},
   "outputs": [
    {
     "name": "stdout",
     "output_type": "stream",
     "text": [
      "wonderful day\n"
     ]
    }
   ],
   "source": [
    "print(\"wonderful day\")"
   ]
  },
  {
   "cell_type": "code",
   "execution_count": 66,
   "id": "d271c999",
   "metadata": {},
   "outputs": [
    {
     "name": "stdout",
     "output_type": "stream",
     "text": [
      "wonderful day\n"
     ]
    }
   ],
   "source": [
    "print(\"wonderful day\")\n"
   ]
  },
  {
   "cell_type": "code",
   "execution_count": null,
   "id": "11326c4e",
   "metadata": {},
   "outputs": [],
   "source": []
  },
  {
   "cell_type": "code",
   "execution_count": null,
   "id": "57f0abd5",
   "metadata": {},
   "outputs": [],
   "source": []
  },
  {
   "cell_type": "code",
   "execution_count": null,
   "id": "738bd3d0",
   "metadata": {},
   "outputs": [],
   "source": []
  }
 ],
 "metadata": {
  "kernelspec": {
   "display_name": "Python 3",
   "language": "python",
   "name": "python3"
  },
  "language_info": {
   "codemirror_mode": {
    "name": "ipython",
    "version": 3
   },
   "file_extension": ".py",
   "mimetype": "text/x-python",
   "name": "python",
   "nbconvert_exporter": "python",
   "pygments_lexer": "ipython3",
   "version": "3.8.8"
  }
 },
 "nbformat": 4,
 "nbformat_minor": 5
}
