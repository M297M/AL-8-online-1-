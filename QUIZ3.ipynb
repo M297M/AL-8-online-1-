{
 "cells": [
  {
   "cell_type": "raw",
   "id": "46ba5bbd",
   "metadata": {},
   "source": [
    "# Guess the output of this program:\n",
    "str1 = 'ali\n",
    "print(str1 + 3 * nael)\n",
    "Error\n",
    "alialiali\n",
    "alinaelali\n",
    "ali nael nael nael\n"
   ]
  },
  {
   "cell_type": "markdown",
   "id": "6888e078",
   "metadata": {},
   "source": [
    "# Error"
   ]
  },
  {
   "cell_type": "code",
   "execution_count": 5,
   "id": "5a52c16f",
   "metadata": {},
   "outputs": [
    {
     "name": "stdout",
     "output_type": "stream",
     "text": [
      "Every 'problem' is \n",
      "a \"gift\". without them  we wouldn't grow\n"
     ]
    }
   ],
   "source": [
    "print(\"\"\"Every 'problem' is \n",
    "a \"gift\". without them \\\n",
    " we wouldn't grow\"\"\")"
   ]
  },
  {
   "cell_type": "code",
   "execution_count": 6,
   "id": "97d01a44",
   "metadata": {},
   "outputs": [
    {
     "name": "stdout",
     "output_type": "stream",
     "text": [
      "C:\\python\\trials\\wrong\n"
     ]
    }
   ],
   "source": [
    "print('C:\\python\\\\trials\\wrong')"
   ]
  },
  {
   "cell_type": "code",
   "execution_count": 7,
   "id": "b9348175",
   "metadata": {},
   "outputs": [
    {
     "name": "stdout",
     "output_type": "stream",
     "text": [
      "32\n"
     ]
    }
   ],
   "source": [
    "a = 4\n",
    "b = 8\n",
    "c = 6\n",
    " \n",
    "mn = min(a, b, c)\n",
    "mx = max(a, b, c)\n",
    " \n",
    "print(mn * mx)"
   ]
  },
  {
   "cell_type": "code",
   "execution_count": 8,
   "id": "ab4dcc1f",
   "metadata": {},
   "outputs": [
    {
     "name": "stdout",
     "output_type": "stream",
     "text": [
      "-1\n"
     ]
    }
   ],
   "source": [
    "print(min(10, min(5, min(6, -1))))"
   ]
  },
  {
   "cell_type": "code",
   "execution_count": 9,
   "id": "1b572a35",
   "metadata": {},
   "outputs": [
    {
     "name": "stdout",
     "output_type": "stream",
     "text": [
      "-1\n"
     ]
    }
   ],
   "source": [
    "print(min(10, min(5, min(6, -1))))"
   ]
  },
  {
   "cell_type": "code",
   "execution_count": 10,
   "id": "1cfd07d1",
   "metadata": {},
   "outputs": [
    {
     "name": "stdout",
     "output_type": "stream",
     "text": [
      "-1\n"
     ]
    }
   ],
   "source": [
    "print(min(10, min(5, min(6, -1))))\n"
   ]
  },
  {
   "cell_type": "code",
   "execution_count": 11,
   "id": "4857255f",
   "metadata": {},
   "outputs": [
    {
     "name": "stdout",
     "output_type": "stream",
     "text": [
      "5\n"
     ]
    }
   ],
   "source": [
    "print(max(3, min(5, max(6, -1))))\n"
   ]
  },
  {
   "cell_type": "code",
   "execution_count": 12,
   "id": "0465ebfc",
   "metadata": {},
   "outputs": [
    {
     "name": "stdout",
     "output_type": "stream",
     "text": [
      "HiHiHi\n"
     ]
    }
   ],
   "source": [
    "str = 'Hi'\n",
    "len = len(str)\n",
    "str = str * (len + 1)\n",
    "print(str)"
   ]
  },
  {
   "cell_type": "code",
   "execution_count": 13,
   "id": "e739d005",
   "metadata": {},
   "outputs": [
    {
     "ename": "TypeError",
     "evalue": "'int' object is not callable",
     "output_type": "error",
     "traceback": [
      "\u001b[1;31m---------------------------------------------------------------------------\u001b[0m",
      "\u001b[1;31mTypeError\u001b[0m                                 Traceback (most recent call last)",
      "\u001b[1;32m<ipython-input-13-d46559752c1b>\u001b[0m in \u001b[0;36m<module>\u001b[1;34m\u001b[0m\n\u001b[0;32m      1\u001b[0m \u001b[0mstr\u001b[0m \u001b[1;33m=\u001b[0m \u001b[1;34m'Moustafa'\u001b[0m\u001b[1;33m\u001b[0m\u001b[1;33m\u001b[0m\u001b[0m\n\u001b[1;32m----> 2\u001b[1;33m \u001b[0mlen\u001b[0m \u001b[1;33m=\u001b[0m \u001b[0mlen\u001b[0m\u001b[1;33m(\u001b[0m\u001b[0mstr\u001b[0m\u001b[1;33m)\u001b[0m\u001b[1;33m\u001b[0m\u001b[1;33m\u001b[0m\u001b[0m\n\u001b[0m\u001b[0;32m      3\u001b[0m \u001b[0mstr\u001b[0m \u001b[1;33m=\u001b[0m \u001b[0mstr\u001b[0m \u001b[1;33m*\u001b[0m \u001b[1;36m2\u001b[0m \u001b[1;33m*\u001b[0m \u001b[0mlen\u001b[0m\u001b[1;33m\u001b[0m\u001b[1;33m\u001b[0m\u001b[0m\n\u001b[0;32m      4\u001b[0m \u001b[0mprint\u001b[0m\u001b[1;33m(\u001b[0m\u001b[0mlen\u001b[0m\u001b[1;33m(\u001b[0m\u001b[0mstr\u001b[0m\u001b[1;33m)\u001b[0m\u001b[1;33m)\u001b[0m\u001b[1;33m\u001b[0m\u001b[1;33m\u001b[0m\u001b[0m\n",
      "\u001b[1;31mTypeError\u001b[0m: 'int' object is not callable"
     ]
    }
   ],
   "source": [
    "\n",
    "str = 'Moustafa'\n",
    "len = len(str)\n",
    "str = str * 2 * len\n",
    "print(len(str))"
   ]
  },
  {
   "cell_type": "markdown",
   "id": "20cc6caf",
   "metadata": {},
   "source": [
    "# error"
   ]
  },
  {
   "cell_type": "code",
   "execution_count": 15,
   "id": "08ca965f",
   "metadata": {},
   "outputs": [
    {
     "name": "stdout",
     "output_type": "stream",
     "text": [
      "Enter your name:  Mahmoud\n",
      "Hello  Mahmoud to our course\n"
     ]
    }
   ],
   "source": [
    "print('Hello ' + input('Enter your name: ') + ' to our course')"
   ]
  },
  {
   "cell_type": "code",
   "execution_count": 17,
   "id": "b28ee1c7",
   "metadata": {},
   "outputs": [
    {
     "ename": "TypeError",
     "evalue": "can only concatenate str (not \"int\") to str",
     "output_type": "error",
     "traceback": [
      "\u001b[1;31m---------------------------------------------------------------------------\u001b[0m",
      "\u001b[1;31mTypeError\u001b[0m                                 Traceback (most recent call last)",
      "\u001b[1;32m<ipython-input-17-7dfd981a485f>\u001b[0m in \u001b[0;36m<module>\u001b[1;34m\u001b[0m\n\u001b[0;32m      1\u001b[0m \u001b[0mmsg\u001b[0m \u001b[1;33m=\u001b[0m \u001b[1;34m'Lesson #'\u001b[0m\u001b[1;33m\u001b[0m\u001b[1;33m\u001b[0m\u001b[0m\n\u001b[0;32m      2\u001b[0m \u001b[0mid\u001b[0m \u001b[1;33m=\u001b[0m \u001b[1;36m33\u001b[0m\u001b[1;33m\u001b[0m\u001b[1;33m\u001b[0m\u001b[0m\n\u001b[1;32m----> 3\u001b[1;33m \u001b[0mprint\u001b[0m\u001b[1;33m(\u001b[0m\u001b[0mmsg\u001b[0m \u001b[1;33m+\u001b[0m \u001b[0mid\u001b[0m\u001b[1;33m)\u001b[0m\u001b[1;33m\u001b[0m\u001b[1;33m\u001b[0m\u001b[0m\n\u001b[0m",
      "\u001b[1;31mTypeError\u001b[0m: can only concatenate str (not \"int\") to str"
     ]
    }
   ],
   "source": [
    " msg = 'Lesson #'\n",
    "id = 33\n",
    "print(msg + id)"
   ]
  },
  {
   "cell_type": "markdown",
   "id": "1f13b932",
   "metadata": {},
   "source": [
    "# Error"
   ]
  },
  {
   "cell_type": "code",
   "execution_count": 19,
   "id": "48e84394",
   "metadata": {},
   "outputs": [
    {
     "name": "stdout",
     "output_type": "stream",
     "text": [
      "30.5\n"
     ]
    }
   ],
   "source": [
    "print(10 + 20.5)"
   ]
  },
  {
   "cell_type": "markdown",
   "id": "a9d25d75",
   "metadata": {},
   "source": [
    "# print(str(10) + str(20.5))"
   ]
  },
  {
   "cell_type": "markdown",
   "id": "12c8dc58",
   "metadata": {},
   "source": [
    "# 1020.5"
   ]
  },
  {
   "cell_type": "code",
   "execution_count": null,
   "id": "e7f98e57",
   "metadata": {},
   "outputs": [],
   "source": []
  }
 ],
 "metadata": {
  "kernelspec": {
   "display_name": "Python 3",
   "language": "python",
   "name": "python3"
  },
  "language_info": {
   "codemirror_mode": {
    "name": "ipython",
    "version": 3
   },
   "file_extension": ".py",
   "mimetype": "text/x-python",
   "name": "python",
   "nbconvert_exporter": "python",
   "pygments_lexer": "ipython3",
   "version": "3.8.8"
  }
 },
 "nbformat": 4,
 "nbformat_minor": 5
}
