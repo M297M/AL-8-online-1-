{
 "cells": [
  {
   "cell_type": "code",
   "execution_count": 1,
   "id": "d6804f5c",
   "metadata": {},
   "outputs": [
    {
     "name": "stdout",
     "output_type": "stream",
     "text": [
      "enter a number12\n",
      "3\n",
      "6\n",
      "9\n",
      "12\n"
     ]
    }
   ],
   "source": [
    "x=int(input(\"enter a number\"))\n",
    "i=1\n",
    "while i<x+1 :\n",
    "      if i%3==0 :\n",
    "          print(i)\n",
    "      i+=1\n",
    "      "
   ]
  },
  {
   "cell_type": "code",
   "execution_count": 4,
   "id": "23bb1bcc",
   "metadata": {},
   "outputs": [
    {
     "name": "stdout",
     "output_type": "stream",
     "text": [
      "2\n",
      "5\n",
      "32\n"
     ]
    }
   ],
   "source": [
    "x,y=int(input()),int(input())\n",
    "i=1\n",
    "z=1\n",
    "while i<y+1 :\n",
    "    z*=x\n",
    "    i+=1\n",
    "print(z)"
   ]
  },
  {
   "cell_type": "code",
   "execution_count": 7,
   "id": "d522b0d9",
   "metadata": {},
   "outputs": [
    {
     "name": "stdout",
     "output_type": "stream",
     "text": [
      "12345\n",
      "# of digits of 0 is 5\n"
     ]
    }
   ],
   "source": [
    "num = int (input())\n",
    "digits = 0\n",
    "while num > 0:\n",
    "    digits += 1\n",
    "    num //= 10\n",
    "print ('# of digits of', num,'is', digits)"
   ]
  },
  {
   "cell_type": "code",
   "execution_count": null,
   "id": "d34332b5",
   "metadata": {},
   "outputs": [],
   "source": []
  }
 ],
 "metadata": {
  "kernelspec": {
   "display_name": "Python 3",
   "language": "python",
   "name": "python3"
  },
  "language_info": {
   "codemirror_mode": {
    "name": "ipython",
    "version": 3
   },
   "file_extension": ".py",
   "mimetype": "text/x-python",
   "name": "python",
   "nbconvert_exporter": "python",
   "pygments_lexer": "ipython3",
   "version": "3.8.8"
  }
 },
 "nbformat": 4,
 "nbformat_minor": 5
}
