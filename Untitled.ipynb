{
 "cells": [
  {
   "cell_type": "code",
   "execution_count": 13,
   "id": "f32d930a",
   "metadata": {},
   "outputs": [
    {
     "name": "stdout",
     "output_type": "stream",
     "text": [
      "True\n",
      "False\n",
      "True\n",
      "True\n",
      "True\n",
      "True\n",
      "True\n"
     ]
    }
   ],
   "source": [
    "#Based on English Dictionary\n",
    "# Letter by letter comparison\n",
    "# If a word has a smaller letter: it appears first\n",
    "print ('love'<'zebra') # True\n",
    "#1 is before z\n",
    "print ('love' <'Long')\n",
    "# False: lo are common, but v > n\n",
    "print ( 'love'!='Long') # True\n",
    " # If one word is done in comparison: the smaller in length comes first\n",
    "print ( 'counter'<'counterattack')\n",
    "# True\n",
    "\n",
    "# Upper letters are smaller than small letters\n",
    "print('A'<'a')\n",
    "# True\n",
    "print('A'<'z')\n",
    "# True\n",
    "print('2'<'a')\n",
    "# True      \n",
    "\n"
   ]
  },
  {
   "cell_type": "code",
   "execution_count": 12,
   "id": "ab13373f",
   "metadata": {},
   "outputs": [
    {
     "name": "stdout",
     "output_type": "stream",
     "text": [
      "False\n"
     ]
    }
   ],
   "source": [
    "print ('loVE'<'Long')\n",
    "#True V< n"
   ]
  },
  {
   "cell_type": "code",
   "execution_count": 10,
   "id": "77e9244f",
   "metadata": {},
   "outputs": [
    {
     "name": "stdout",
     "output_type": "stream",
     "text": [
      "True\n"
     ]
    }
   ],
   "source": [
    "print('LoVE'<'Love')\n",
    "# True V <V"
   ]
  },
  {
   "cell_type": "code",
   "execution_count": 25,
   "id": "3281805e",
   "metadata": {},
   "outputs": [
    {
     "name": "stdout",
     "output_type": "stream",
     "text": [
      "123456\n"
     ]
    }
   ],
   "source": [
    "num = 1\n",
    "num = num * 10 + 2\n",
    "num = num * 10 + 3\n",
    "num = num * 10 + 4\n",
    "num = num * 10 + 5\n",
    "num = num * 10 + 6\n",
    "print(num)"
   ]
  },
  {
   "cell_type": "code",
   "execution_count": 20,
   "id": "1462cbb0",
   "metadata": {},
   "outputs": [
    {
     "ename": "NameError",
     "evalue": "name 'my_name' is not defined",
     "output_type": "error",
     "traceback": [
      "\u001b[1;31m---------------------------------------------------------------------------\u001b[0m",
      "\u001b[1;31mNameError\u001b[0m                                 Traceback (most recent call last)",
      "\u001b[1;32m<ipython-input-20-f9f6b050f5d9>\u001b[0m in \u001b[0;36m<module>\u001b[1;34m\u001b[0m\n\u001b[1;32m----> 1\u001b[1;33m \u001b[0mprint\u001b[0m\u001b[1;33m(\u001b[0m\u001b[0mmy_name\u001b[0m\u001b[1;33m)\u001b[0m\u001b[1;33m\u001b[0m\u001b[1;33m\u001b[0m\u001b[0m\n\u001b[0m\u001b[0;32m      2\u001b[0m \u001b[0mmy_name\u001b[0m \u001b[1;33m=\u001b[0m \u001b[1;34m'mostafa'\u001b[0m\u001b[1;33m\u001b[0m\u001b[1;33m\u001b[0m\u001b[0m\n",
      "\u001b[1;31mNameError\u001b[0m: name 'my_name' is not defined"
     ]
    }
   ],
   "source": [
    "print(my_name)\n",
    "my_name = 'mostafa'"
   ]
  },
  {
   "cell_type": "code",
   "execution_count": 24,
   "id": "2d21e78e",
   "metadata": {},
   "outputs": [
    {
     "ename": "IndentationError",
     "evalue": "unexpected indent (<ipython-input-24-815512c36986>, line 7)",
     "output_type": "error",
     "traceback": [
      "\u001b[1;36m  File \u001b[1;32m\"<ipython-input-24-815512c36986>\"\u001b[1;36m, line \u001b[1;32m7\u001b[0m\n\u001b[1;33m    print(num)\u001b[0m\n\u001b[1;37m    ^\u001b[0m\n\u001b[1;31mIndentationError\u001b[0m\u001b[1;31m:\u001b[0m unexpected indent\n"
     ]
    }
   ],
   "source": [
    "num = 1\n",
    "num = num * 10 + 2\n",
    "num = num * 10 + 3\n",
    "num = num * 10 + 4\n",
    "num = num * 10 + 5\n",
    "num = num * 10 + 6\n",
    " print(num)"
   ]
  },
  {
   "cell_type": "code",
   "execution_count": 29,
   "id": "bd089396",
   "metadata": {},
   "outputs": [
    {
     "name": "stdout",
     "output_type": "stream",
     "text": [
      "3\n",
      "-2\n",
      "15\n",
      "7\n",
      "9\n"
     ]
    }
   ],
   "source": [
    "answer = min(3, 6)\n",
    "print(answer)\n",
    "# 3\n",
    "answer=min(3, 6,-2)\n",
    "print(answer)\n",
    "#-2\n",
    "answer= max(9, 6, -2,15)\n",
    "print (answer)\n",
    "# 15\n",
    "# nested Function calls\n",
    "# max (4.7) computed first\n",
    "#=> 7 # print (7)\n",
    "#=>7\n",
    "print ( max(4,7) )\n",
    "print( max (4,7)+2)\n",
    "#7\n",
    "#9"
   ]
  },
  {
   "cell_type": "code",
   "execution_count": 30,
   "id": "3600a68d",
   "metadata": {},
   "outputs": [
    {
     "name": "stdout",
     "output_type": "stream",
     "text": [
      "Enter First Number15\n"
     ]
    }
   ],
   "source": [
    "x=input ('Enter First Number')\n"
   ]
  },
  {
   "cell_type": "code",
   "execution_count": 31,
   "id": "4d79bb3e",
   "metadata": {},
   "outputs": [
    {
     "name": "stdout",
     "output_type": "stream",
     "text": [
      "15\n"
     ]
    }
   ],
   "source": [
    "print (x)\n"
   ]
  },
  {
   "cell_type": "code",
   "execution_count": 32,
   "id": "4c315459",
   "metadata": {},
   "outputs": [
    {
     "data": {
      "text/plain": [
       "str"
      ]
     },
     "execution_count": 32,
     "metadata": {},
     "output_type": "execute_result"
    }
   ],
   "source": [
    "\n",
    "type(x)\n"
   ]
  },
  {
   "cell_type": "code",
   "execution_count": 33,
   "id": "d1af6457",
   "metadata": {},
   "outputs": [],
   "source": [
    "x1 =int(x)"
   ]
  },
  {
   "cell_type": "code",
   "execution_count": 35,
   "id": "90c91c2b",
   "metadata": {},
   "outputs": [
    {
     "data": {
      "text/plain": [
       "int"
      ]
     },
     "execution_count": 35,
     "metadata": {},
     "output_type": "execute_result"
    }
   ],
   "source": [
    "type(x1)"
   ]
  },
  {
   "cell_type": "code",
   "execution_count": 36,
   "id": "834f9ee1",
   "metadata": {},
   "outputs": [
    {
     "name": "stdout",
     "output_type": "stream",
     "text": [
      "Enter The First Number25\n",
      "<class 'float'>\n"
     ]
    }
   ],
   "source": [
    "number1 = float (input ('Enter The First Number'))\n",
    "print (type (number1))\n"
   ]
  },
  {
   "cell_type": "code",
   "execution_count": 37,
   "id": "f757d838",
   "metadata": {},
   "outputs": [
    {
     "name": "stdout",
     "output_type": "stream",
     "text": [
      "Enter The Second Number5\n",
      "<class 'float'>\n"
     ]
    }
   ],
   "source": [
    "\n",
    "number2 = float (input ('Enter The Second Number'))\n",
    "print(type(number2))\n"
   ]
  },
  {
   "cell_type": "code",
   "execution_count": 38,
   "id": "a9fcd160",
   "metadata": {},
   "outputs": [
    {
     "data": {
      "text/plain": [
       "25.0"
      ]
     },
     "execution_count": 38,
     "metadata": {},
     "output_type": "execute_result"
    }
   ],
   "source": [
    "max(number1, number2)"
   ]
  },
  {
   "cell_type": "code",
   "execution_count": 39,
   "id": "cbb01dc8",
   "metadata": {},
   "outputs": [
    {
     "name": "stdout",
     "output_type": "stream",
     "text": [
      "30\n"
     ]
    }
   ],
   "source": [
    "print (int (number1+number2) )"
   ]
  },
  {
   "cell_type": "code",
   "execution_count": 104,
   "id": "9e25c34f",
   "metadata": {},
   "outputs": [],
   "source": [
    "def summ( number1, number2):\n",
    "    su=number1+number2\n",
    "    return summ"
   ]
  },
  {
   "cell_type": "code",
   "execution_count": 105,
   "id": "83ecabf4",
   "metadata": {},
   "outputs": [
    {
     "name": "stdout",
     "output_type": "stream",
     "text": [
      "Enter The Number25\n"
     ]
    }
   ],
   "source": [
    "number1 = float(input('Enter The Number') )"
   ]
  },
  {
   "cell_type": "code",
   "execution_count": 106,
   "id": "4d0b677f",
   "metadata": {},
   "outputs": [
    {
     "name": "stdout",
     "output_type": "stream",
     "text": [
      "Enter The Number5\n"
     ]
    }
   ],
   "source": [
    "number2 = float(input('Enter The Number') )"
   ]
  },
  {
   "cell_type": "code",
   "execution_count": 107,
   "id": "218d944b",
   "metadata": {},
   "outputs": [
    {
     "name": "stdout",
     "output_type": "stream",
     "text": [
      "<function summ at 0x00000258C1170EE0>\n"
     ]
    }
   ],
   "source": [
    "print(summ(number1, number2))"
   ]
  },
  {
   "cell_type": "code",
   "execution_count": 100,
   "id": "34126392",
   "metadata": {},
   "outputs": [
    {
     "name": "stdout",
     "output_type": "stream",
     "text": [
      "Enter The Number: mayar magdy\n"
     ]
    }
   ],
   "source": [
    "name=str(input('Enter The Number: ') )"
   ]
  },
  {
   "cell_type": "code",
   "execution_count": 63,
   "id": "bb88a7ac",
   "metadata": {},
   "outputs": [
    {
     "name": "stdout",
     "output_type": "stream",
     "text": [
      "11\n"
     ]
    }
   ],
   "source": [
    "print(len(name))"
   ]
  },
  {
   "cell_type": "code",
   "execution_count": 64,
   "id": "a61eb204",
   "metadata": {},
   "outputs": [
    {
     "name": "stdout",
     "output_type": "stream",
     "text": [
      "Enter The Number: mayarmagdy\n"
     ]
    }
   ],
   "source": [
    "name=str(input('Enter The Number: ') )"
   ]
  },
  {
   "cell_type": "code",
   "execution_count": 65,
   "id": "c91d0b3f",
   "metadata": {},
   "outputs": [
    {
     "name": "stdout",
     "output_type": "stream",
     "text": [
      "10\n"
     ]
    }
   ],
   "source": [
    "print(len(name))"
   ]
  },
  {
   "cell_type": "code",
   "execution_count": 110,
   "id": "ccc1cfc5",
   "metadata": {},
   "outputs": [
    {
     "name": "stdout",
     "output_type": "stream",
     "text": [
      "enter your namemayar magdy\n"
     ]
    }
   ],
   "source": [
    "name=input (\"enter your name\")"
   ]
  },
  {
   "cell_type": "code",
   "execution_count": 116,
   "id": "f887b295",
   "metadata": {},
   "outputs": [],
   "source": [
    "def name (name) :\n",
    "    name=str (input (\"enter your name\") )\n",
    "    y=len (name)\n",
    "    return name"
   ]
  },
  {
   "cell_type": "code",
   "execution_count": 112,
   "id": "fe0485c9",
   "metadata": {},
   "outputs": [
    {
     "name": "stdout",
     "output_type": "stream",
     "text": [
      "enter your namemayar magdy\n"
     ]
    }
   ],
   "source": [
    "name= input('enter your name')"
   ]
  },
  {
   "cell_type": "code",
   "execution_count": 118,
   "id": "a1af81ce",
   "metadata": {},
   "outputs": [
    {
     "ename": "ValueError",
     "evalue": "invalid literal for int() with base 10: 'ten'",
     "output_type": "error",
     "traceback": [
      "\u001b[1;31m---------------------------------------------------------------------------\u001b[0m",
      "\u001b[1;31mValueError\u001b[0m                                Traceback (most recent call last)",
      "\u001b[1;32m<ipython-input-118-ee0a6b4fc72d>\u001b[0m in \u001b[0;36m<module>\u001b[1;34m\u001b[0m\n\u001b[0;32m      1\u001b[0m \u001b[0mz\u001b[0m \u001b[1;33m=\u001b[0m\u001b[1;34m'ten'\u001b[0m\u001b[1;33m\u001b[0m\u001b[1;33m\u001b[0m\u001b[0m\n\u001b[1;32m----> 2\u001b[1;33m \u001b[0mprint\u001b[0m\u001b[1;33m(\u001b[0m\u001b[0mint\u001b[0m\u001b[1;33m(\u001b[0m\u001b[0mz\u001b[0m\u001b[1;33m)\u001b[0m\u001b[1;33m)\u001b[0m\u001b[1;33m\u001b[0m\u001b[1;33m\u001b[0m\u001b[0m\n\u001b[0m",
      "\u001b[1;31mValueError\u001b[0m: invalid literal for int() with base 10: 'ten'"
     ]
    }
   ],
   "source": [
    "z ='ten'\n",
    "print(int(z))"
   ]
  },
  {
   "cell_type": "code",
   "execution_count": 117,
   "id": "0578086f",
   "metadata": {},
   "outputs": [
    {
     "data": {
      "text/plain": [
       "function"
      ]
     },
     "execution_count": 117,
     "metadata": {},
     "output_type": "execute_result"
    }
   ],
   "source": [
    "type(name)"
   ]
  },
  {
   "cell_type": "code",
   "execution_count": 125,
   "id": "f78cd16e",
   "metadata": {},
   "outputs": [
    {
     "name": "stdout",
     "output_type": "stream",
     "text": [
      "True\n",
      "True\n",
      "True\n",
      "True\n",
      "False\n",
      "False\n"
     ]
    }
   ],
   "source": [
    "name='Mayar'\n",
    "#All Prints are True\n",
    "print('Maya' in name)\n",
    "print('May' in name)\n",
    "print('Ma'  in name)\n",
    "print('M'  in name)\n",
    "print(' '  in name)\n",
    "print('Mayarm'  in name)"
   ]
  },
  {
   "cell_type": "code",
   "execution_count": 130,
   "id": "18d36387",
   "metadata": {},
   "outputs": [
    {
     "name": "stdout",
     "output_type": "stream",
     "text": [
      "enter the salary300000\n",
      "Work hard\n"
     ]
    }
   ],
   "source": [
    "salary = int (input ('enter the salary' ))\n",
    "if salary < 1000:\n",
    "    print ('You are poor')\n",
    "else:    \n",
    "    print ('Work hard')"
   ]
  },
  {
   "cell_type": "code",
   "execution_count": 134,
   "id": "97589cfc",
   "metadata": {},
   "outputs": [
    {
     "name": "stdout",
     "output_type": "stream",
     "text": [
      "3=3\n",
      "5==5\n",
      "Done\n"
     ]
    }
   ],
   "source": [
    "if 3 == 3:\n",
    "    print ('3=3')\n",
    "if 5==5:\n",
    "    print('5==5')\n",
    "print ('Done')"
   ]
  },
  {
   "cell_type": "code",
   "execution_count": 137,
   "id": "2dc9fdc5",
   "metadata": {},
   "outputs": [
    {
     "name": "stdout",
     "output_type": "stream",
     "text": [
      "1 2 3\n"
     ]
    }
   ],
   "source": [
    "a, b,c = input().split()"
   ]
  },
  {
   "cell_type": "code",
   "execution_count": 138,
   "id": "a559a136",
   "metadata": {},
   "outputs": [
    {
     "name": "stdout",
     "output_type": "stream",
     "text": [
      "1 2 3\n"
     ]
    }
   ],
   "source": [
    "print(a,b,c)"
   ]
  },
  {
   "cell_type": "code",
   "execution_count": 139,
   "id": "72421422",
   "metadata": {},
   "outputs": [
    {
     "name": "stdout",
     "output_type": "stream",
     "text": [
      "enter your salary3000\n",
      "good salary\n"
     ]
    }
   ],
   "source": [
    "x=int(input(\"enter your salary\"))\n",
    "if x<1000:\n",
    "    print(\"poor\")\n",
    "elif 1000<x<20000:\n",
    "    print('good salary')\n",
    "elif 20000<x<50000:\n",
    "    print('rich')\n",
    "else:\n",
    "    print(\"very poor\")"
   ]
  },
  {
   "cell_type": "code",
   "execution_count": null,
   "id": "a27e81e1",
   "metadata": {},
   "outputs": [],
   "source": []
  }
 ],
 "metadata": {
  "kernelspec": {
   "display_name": "Python 3",
   "language": "python",
   "name": "python3"
  },
  "language_info": {
   "codemirror_mode": {
    "name": "ipython",
    "version": 3
   },
   "file_extension": ".py",
   "mimetype": "text/x-python",
   "name": "python",
   "nbconvert_exporter": "python",
   "pygments_lexer": "ipython3",
   "version": "3.8.8"
  }
 },
 "nbformat": 4,
 "nbformat_minor": 5
}
