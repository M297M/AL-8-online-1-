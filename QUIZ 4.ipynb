{
 "cells": [
  {
   "cell_type": "code",
   "execution_count": 1,
   "id": "b3f032bc",
   "metadata": {},
   "outputs": [
    {
     "name": "stdout",
     "output_type": "stream",
     "text": [
      "Follow truth wherever it may lead you.\n"
     ]
    }
   ],
   "source": [
    "print(\"Follow truth wherever it may lead you.\")"
   ]
  },
  {
   "cell_type": "markdown",
   "id": "3600adff",
   "metadata": {},
   "source": [
    "# Question 2:\n",
    "( ) are called:"
   ]
  },
  {
   "cell_type": "markdown",
   "id": "c012093a",
   "metadata": {},
   "source": [
    "# Brackets"
   ]
  },
  {
   "cell_type": "markdown",
   "id": "33ac627d",
   "metadata": {},
   "source": [
    "# Question 3:\n",
    "Syntax errors are mistakes in using the language.\n"
   ]
  },
  {
   "cell_type": "markdown",
   "id": "43e886ff",
   "metadata": {},
   "source": [
    "# true"
   ]
  },
  {
   "cell_type": "markdown",
   "id": "0ce25495",
   "metadata": {},
   "source": [
    "# Question 4:"
   ]
  },
  {
   "cell_type": "code",
   "execution_count": 3,
   "id": "f1742c3f",
   "metadata": {},
   "outputs": [],
   "source": [
    "##print(\"The best among you is the one who doesn’t harm others with his tongue and hands.\")"
   ]
  },
  {
   "cell_type": "markdown",
   "id": "8e60f881",
   "metadata": {},
   "source": [
    "# empty output"
   ]
  },
  {
   "cell_type": "markdown",
   "id": "a67efea3",
   "metadata": {},
   "source": [
    "# QUESTION 5:"
   ]
  },
  {
   "cell_type": "code",
   "execution_count": 4,
   "id": "5a76aa37",
   "metadata": {},
   "outputs": [
    {
     "name": "stdout",
     "output_type": "stream",
     "text": [
      "Richness is not having many possessions, \n",
      "but richness is being content with oneself.\n"
     ]
    }
   ],
   "source": [
    "print('Richness is not having many possessions, \\nbut richness is being content with oneself.')"
   ]
  },
  {
   "cell_type": "markdown",
   "id": "70636cec",
   "metadata": {},
   "source": [
    "# Question 6:"
   ]
  },
  {
   "cell_type": "code",
   "execution_count": 5,
   "id": "3c902511",
   "metadata": {},
   "outputs": [
    {
     "name": "stdout",
     "output_type": "stream",
     "text": [
      "Modesty brings nothing except good\n"
     ]
    }
   ],
   "source": [
    "print('Modesty brings '\n",
    "      'nothing '\n",
    "      'except good')"
   ]
  },
  {
   "cell_type": "markdown",
   "id": "3c557a1a",
   "metadata": {},
   "source": [
    "# Question 7 :"
   ]
  },
  {
   "cell_type": "code",
   "execution_count": 6,
   "id": "3485e75d",
   "metadata": {},
   "outputs": [
    {
     "ename": "SyntaxError",
     "evalue": "Missing parentheses in call to 'print'. Did you mean print(1 + 2 * 3)? (<ipython-input-6-89e1d6978041>, line 1)",
     "output_type": "error",
     "traceback": [
      "\u001b[1;36m  File \u001b[1;32m\"<ipython-input-6-89e1d6978041>\"\u001b[1;36m, line \u001b[1;32m1\u001b[0m\n\u001b[1;33m    print 1 + 2 * 3\u001b[0m\n\u001b[1;37m          ^\u001b[0m\n\u001b[1;31mSyntaxError\u001b[0m\u001b[1;31m:\u001b[0m Missing parentheses in call to 'print'. Did you mean print(1 + 2 * 3)?\n"
     ]
    }
   ],
   "source": [
    "print 1 + 2 * 3"
   ]
  },
  {
   "cell_type": "markdown",
   "id": "50a364b0",
   "metadata": {},
   "source": [
    "# error"
   ]
  },
  {
   "cell_type": "markdown",
   "id": "a407748b",
   "metadata": {},
   "source": [
    "# Question 8:"
   ]
  },
  {
   "cell_type": "code",
   "execution_count": 7,
   "id": "9f343c20",
   "metadata": {},
   "outputs": [
    {
     "name": "stdout",
     "output_type": "stream",
     "text": [
      "7\n"
     ]
    }
   ],
   "source": [
    "print(1 + 2 * 3)\n"
   ]
  },
  {
   "cell_type": "markdown",
   "id": "bb8d4333",
   "metadata": {},
   "source": [
    "# Question 9:"
   ]
  },
  {
   "cell_type": "code",
   "execution_count": 8,
   "id": "d6bba2ef",
   "metadata": {},
   "outputs": [
    {
     "ename": "SyntaxError",
     "evalue": "EOL while scanning string literal (<ipython-input-8-ddb4d552e21f>, line 1)",
     "output_type": "error",
     "traceback": [
      "\u001b[1;36m  File \u001b[1;32m\"<ipython-input-8-ddb4d552e21f>\"\u001b[1;36m, line \u001b[1;32m1\u001b[0m\n\u001b[1;33m    print('The best among you', \"are those who have the best\",  'manners and character.)\u001b[0m\n\u001b[1;37m                                                                                        ^\u001b[0m\n\u001b[1;31mSyntaxError\u001b[0m\u001b[1;31m:\u001b[0m EOL while scanning string literal\n"
     ]
    }
   ],
   "source": [
    "print('The best among you', \"are those who have the best\",  'manners and character.)"
   ]
  },
  {
   "cell_type": "markdown",
   "id": "39afd99d",
   "metadata": {},
   "source": [
    "# error"
   ]
  },
  {
   "cell_type": "markdown",
   "id": "de072d19",
   "metadata": {},
   "source": [
    "# question 10:"
   ]
  },
  {
   "cell_type": "code",
   "execution_count": 9,
   "id": "7d3acbaf",
   "metadata": {},
   "outputs": [
    {
     "name": "stdout",
     "output_type": "stream",
     "text": [
      "The best among you are those who have the best manners and character.\n"
     ]
    }
   ],
   "source": [
    "print('The best among you', \"are those who have the best\",  'manners and character.')"
   ]
  },
  {
   "cell_type": "markdown",
   "id": "da9862a2",
   "metadata": {},
   "source": [
    "# question 11:"
   ]
  },
  {
   "cell_type": "code",
   "execution_count": 10,
   "id": "2c9d434a",
   "metadata": {},
   "outputs": [
    {
     "ename": "SyntaxError",
     "evalue": "invalid syntax (<ipython-input-10-8578a91c2d0d>, line 1)",
     "output_type": "error",
     "traceback": [
      "\u001b[1;36m  File \u001b[1;32m\"<ipython-input-10-8578a91c2d0d>\"\u001b[1;36m, line \u001b[1;32m1\u001b[0m\n\u001b[1;33m    print('There is reward for 'kindness' to every living thing.')\u001b[0m\n\u001b[1;37m                                ^\u001b[0m\n\u001b[1;31mSyntaxError\u001b[0m\u001b[1;31m:\u001b[0m invalid syntax\n"
     ]
    }
   ],
   "source": [
    " \n",
    "print('There is reward for 'kindness' to every living thing.')"
   ]
  },
  {
   "cell_type": "markdown",
   "id": "6e381032",
   "metadata": {},
   "source": [
    "# error"
   ]
  },
  {
   "cell_type": "markdown",
   "id": "8152dda7",
   "metadata": {},
   "source": [
    "# question 12:\n",
    "    "
   ]
  },
  {
   "cell_type": "code",
   "execution_count": 11,
   "id": "99dd5401",
   "metadata": {},
   "outputs": [
    {
     "name": "stdout",
     "output_type": "stream",
     "text": [
      "There is reward for 'kindness' to every living thing.\n"
     ]
    }
   ],
   "source": [
    "print(\"There is reward for 'kindness' to every living thing.\")"
   ]
  },
  {
   "cell_type": "markdown",
   "id": "1ee04a52",
   "metadata": {},
   "source": [
    "# question 13:"
   ]
  },
  {
   "cell_type": "code",
   "execution_count": 12,
   "id": "55f3a81d",
   "metadata": {},
   "outputs": [
    {
     "name": "stdout",
     "output_type": "stream",
     "text": [
      "9\n"
     ]
    }
   ],
   "source": [
    "print( (1 + 2) * 3 )"
   ]
  },
  {
   "cell_type": "markdown",
   "id": "cea3bc43",
   "metadata": {},
   "source": [
    "# question 14:"
   ]
  },
  {
   "cell_type": "code",
   "execution_count": 13,
   "id": "91c143f4",
   "metadata": {},
   "outputs": [
    {
     "name": "stdout",
     "output_type": "stream",
     "text": [
      "6.0\n"
     ]
    }
   ],
   "source": [
    "print( (1 + 2) * (3 + 1) / 2)"
   ]
  },
  {
   "cell_type": "markdown",
   "id": "1c1a48bc",
   "metadata": {},
   "source": [
    "# question 15:\n",
    "    "
   ]
  },
  {
   "cell_type": "code",
   "execution_count": 14,
   "id": "f4bd4e5b",
   "metadata": {},
   "outputs": [
    {
     "name": "stdout",
     "output_type": "stream",
     "text": [
      "n\n",
      "nn\n",
      "nnn\n",
      "\n"
     ]
    }
   ],
   "source": [
    "print(\"n\\nnn\\nnnn\\n\")"
   ]
  },
  {
   "cell_type": "code",
   "execution_count": null,
   "id": "984d903b",
   "metadata": {},
   "outputs": [],
   "source": []
  }
 ],
 "metadata": {
  "kernelspec": {
   "display_name": "Python 3",
   "language": "python",
   "name": "python3"
  },
  "language_info": {
   "codemirror_mode": {
    "name": "ipython",
    "version": 3
   },
   "file_extension": ".py",
   "mimetype": "text/x-python",
   "name": "python",
   "nbconvert_exporter": "python",
   "pygments_lexer": "ipython3",
   "version": "3.8.8"
  }
 },
 "nbformat": 4,
 "nbformat_minor": 5
}
