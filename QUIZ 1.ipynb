{
 "cells": [
  {
   "cell_type": "markdown",
   "id": "78992ac2",
   "metadata": {},
   "source": [
    "# Question 1: In python: number 17.5 is integer floating point:\n"
   ]
  },
  {
   "cell_type": "markdown",
   "id": "afb210ff",
   "metadata": {},
   "source": [
    "# solution: integer"
   ]
  },
  {
   "cell_type": "markdown",
   "id": "41fa5c43",
   "metadata": {},
   "source": [
    "# 17.0 is both integer and floating-point number in python\n",
    "\n",
    "\n"
   ]
  },
  {
   "cell_type": "markdown",
   "id": "786e72b2",
   "metadata": {},
   "source": [
    "# solution: false"
   ]
  },
  {
   "cell_type": "markdown",
   "id": "d3ecde25",
   "metadata": {},
   "source": [
    "# In python, the string type can only be used for English letters\n"
   ]
  },
  {
   "cell_type": "markdown",
   "id": "bff0f342",
   "metadata": {},
   "source": [
    "# solution:false"
   ]
  },
  {
   "cell_type": "markdown",
   "id": "888a3c53",
   "metadata": {},
   "source": [
    "# In a game, a player's status can be either Enemy or Friend. Which data type is the most suitable?\n"
   ]
  },
  {
   "cell_type": "markdown",
   "id": "498bf1b6",
   "metadata": {},
   "source": [
    "# solution:string\n"
   ]
  },
  {
   "cell_type": "markdown",
   "id": "e43c1f99",
   "metadata": {},
   "source": [
    "# Does every variable have a storage location in memory?\n"
   ]
  },
  {
   "cell_type": "markdown",
   "id": "7cea84c4",
   "metadata": {},
   "source": [
    "# solution:true"
   ]
  },
  {
   "cell_type": "markdown",
   "id": "356c69e9",
   "metadata": {},
   "source": [
    "# If we want to classify a patient as has COVID or not, what is the most suitable data type?"
   ]
  },
  {
   "cell_type": "markdown",
   "id": "e568bbe3",
   "metadata": {},
   "source": [
    "# solution: Boolean"
   ]
  },
  {
   "cell_type": "markdown",
   "id": "4d47ab05",
   "metadata": {},
   "source": [
    "# There are no limits for data types integer, float, and string in Python 3?"
   ]
  },
  {
   "cell_type": "markdown",
   "id": "8f8a1779",
   "metadata": {},
   "source": [
    "# soluation:false"
   ]
  },
  {
   "cell_type": "code",
   "execution_count": 4,
   "id": "387154a7",
   "metadata": {},
   "outputs": [
    {
     "name": "stdout",
     "output_type": "stream",
     "text": [
      "123456\n"
     ]
    }
   ],
   "source": [
    " num = 1\n",
    " num = num * 10 + 2\n",
    " num = num * 10 + 3\n",
    " num = num * 10 + 4\n",
    " num = num * 10 + 5\n",
    " num = num * 10 + 6\n",
    "print(num)\n"
   ]
  },
  {
   "cell_type": "code",
   "execution_count": null,
   "id": "d86aee68",
   "metadata": {},
   "outputs": [],
   "source": []
  }
 ],
 "metadata": {
  "kernelspec": {
   "display_name": "Python 3",
   "language": "python",
   "name": "python3"
  },
  "language_info": {
   "codemirror_mode": {
    "name": "ipython",
    "version": 3
   },
   "file_extension": ".py",
   "mimetype": "text/x-python",
   "name": "python",
   "nbconvert_exporter": "python",
   "pygments_lexer": "ipython3",
   "version": "3.8.8"
  }
 },
 "nbformat": 4,
 "nbformat_minor": 5
}
