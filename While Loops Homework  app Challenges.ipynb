{
 "cells": [
  {
   "cell_type": "code",
   "execution_count": null,
   "id": "b27b04cd",
   "metadata": {},
   "outputs": [
    {
     "name": "stdout",
     "output_type": "stream",
     "text": [
      "menu\n",
      "enter 1 to sum numbers from 1 to n\n",
      "enter 2 to evaluate simple 2 numbers (e.g. 2+3)\n",
      "enter 3 to end the program\n"
     ]
    }
   ],
   "source": [
    " print(\"menu\")\n",
    "print(\"enter 1 to sum numbers from 1 to n\")\n",
    "print(\"enter 2 to evaluate simple 2 numbers (e.g. 2+3)\")\n",
    "print(\"enter 3 to end the program\")\n",
    "n=int(input(\"enter your choice from 1 to 3\"))\n",
    "if n==1:\n",
    "    n1=int(input(\"max numbers you want to sum\"))\n",
    "    i=0\n",
    "    sum=0\n",
    "    for i in range (n1):\n",
    "            sum+=i\n",
    "            print(sum)\n",
    "\n",
    "elif n==2:\n",
    "    s=str(input(\"enter your operation\"))\n",
    "    x=int(input(\"enter your 1st num\"))\n",
    "    y=int(input(\"enter your 2nd num\"))\n",
    "    if s=='+':\n",
    "        print('the sum is',x+y)\n",
    "    elif s=='-':\n",
    "        print('the sub is',x-y)\n",
    "    elif s=='*':\n",
    "        print('the mult is',x*y)\n",
    "    else:\n",
    "        print('operation is unkown')\n",
    "\n",
    "elif n==3:\n",
    "    exit()"
   ]
  },
  {
   "cell_type": "code",
   "execution_count": null,
   "id": "ed58f8eb",
   "metadata": {},
   "outputs": [],
   "source": []
  }
 ],
 "metadata": {
  "kernelspec": {
   "display_name": "Python 3",
   "language": "python",
   "name": "python3"
  },
  "language_info": {
   "codemirror_mode": {
    "name": "ipython",
    "version": 3
   },
   "file_extension": ".py",
   "mimetype": "text/x-python",
   "name": "python",
   "nbconvert_exporter": "python",
   "pygments_lexer": "ipython3",
   "version": "3.8.8"
  }
 },
 "nbformat": 4,
 "nbformat_minor": 5
}
