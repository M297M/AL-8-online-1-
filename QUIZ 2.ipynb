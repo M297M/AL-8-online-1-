{
 "cells": [
  {
   "cell_type": "markdown",
   "id": "4c2b9483",
   "metadata": {},
   "source": [
    "# Question 1: In Python, we can change both the value and data type of variables?\n"
   ]
  },
  {
   "cell_type": "markdown",
   "id": "454354b7",
   "metadata": {},
   "source": [
    "# true"
   ]
  },
  {
   "cell_type": "markdown",
   "id": "3b9cf38d",
   "metadata": {},
   "source": [
    "# Question 2: The name of a variable is called an identifier.\n",
    "\n"
   ]
  },
  {
   "cell_type": "markdown",
   "id": "88ba82c5",
   "metadata": {},
   "source": [
    "# true"
   ]
  },
  {
   "cell_type": "markdown",
   "id": "f7719fe3",
   "metadata": {},
   "source": [
    "# Question 3: In Python, we can name the variable whatever with no constraints.\n",
    "\n"
   ]
  },
  {
   "cell_type": "markdown",
   "id": "e86fd402",
   "metadata": {},
   "source": [
    "# false"
   ]
  },
  {
   "cell_type": "markdown",
   "id": "0cfde526",
   "metadata": {},
   "source": [
    "# How many mistakes are in this identifier?\n",
    "3sum-a = 10\n",
    "0\n",
    "1\n",
    "2\n",
    "3\n"
   ]
  },
  {
   "cell_type": "markdown",
   "id": "bb1feec5",
   "metadata": {},
   "source": [
    "# 3"
   ]
  },
  {
   "cell_type": "markdown",
   "id": "f5b02dcb",
   "metadata": {},
   "source": [
    "# Does this code work?\n",
    "print = 10\n",
    "print = 10 + 1\n",
    "\n"
   ]
  },
  {
   "cell_type": "markdown",
   "id": "8697cb67",
   "metadata": {},
   "source": [
    "# false"
   ]
  },
  {
   "cell_type": "markdown",
   "id": "18c5333c",
   "metadata": {},
   "source": [
    "# Guess the output of this program:\n",
    "print = 10\n",
    "print = 10 + 1\n",
    "x = print + 2\n",
    "print(x)\n",
    "Error\n",
    "13\n",
    "12\n",
    "10\n"
   ]
  },
  {
   "cell_type": "markdown",
   "id": "4c463c7e",
   "metadata": {},
   "source": [
    "# Error"
   ]
  },
  {
   "cell_type": "markdown",
   "id": "6d12548b",
   "metadata": {},
   "source": [
    "# \n",
    "Which code will generate an error?\n",
    "total_sum = 10\n",
    "result = 2 * total_Sum + 1 \n",
    "total_sum not SAME as total_Sum. Python is case sensitive\n",
    " \n",
    "total_sum = 10\n",
    "result = 2 * total_sum + 1\n",
    "Both are ok\n",
    "Which variable name is a better style in the industry?\n",
    "total_sum\n",
    "Total_sum\n",
    "TOTAL_SUM\n",
    "totalsum\n",
    "TotalSum\n"
   ]
  },
  {
   "cell_type": "markdown",
   "id": "060da922",
   "metadata": {},
   "source": [
    "# total_sum"
   ]
  },
  {
   "cell_type": "markdown",
   "id": "eb65d697",
   "metadata": {},
   "source": [
    "# Python is a dynamically typed language, which means we can change the values of the variables during the runtime of the program."
   ]
  },
  {
   "cell_type": "markdown",
   "id": "d8b53381",
   "metadata": {},
   "source": [
    "# True"
   ]
  },
  {
   "cell_type": "markdown",
   "id": "a604c053",
   "metadata": {},
   "source": [
    "# How many times has the data type of x changed?\n",
    "x = 1\n",
    "x = 2\n",
    "x = 1.0\n",
    "x = 3\n",
    "x = '1.0'\n",
    "x = 5\n",
    "x = 6\n"
   ]
  },
  {
   "cell_type": "markdown",
   "id": "03719cf4",
   "metadata": {},
   "source": [
    "# 4"
   ]
  },
  {
   "cell_type": "code",
   "execution_count": null,
   "id": "38100e2e",
   "metadata": {},
   "outputs": [],
   "source": []
  }
 ],
 "metadata": {
  "kernelspec": {
   "display_name": "Python 3",
   "language": "python",
   "name": "python3"
  },
  "language_info": {
   "codemirror_mode": {
    "name": "ipython",
    "version": 3
   },
   "file_extension": ".py",
   "mimetype": "text/x-python",
   "name": "python",
   "nbconvert_exporter": "python",
   "pygments_lexer": "ipython3",
   "version": "3.8.8"
  }
 },
 "nbformat": 4,
 "nbformat_minor": 5
}
