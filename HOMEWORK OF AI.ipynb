{
 "cells": [
  {
   "cell_type": "markdown",
   "id": "71570e2b",
   "metadata": {},
   "source": [
    "# Data types and variables                                   Homework 1: Math operations"
   ]
  },
  {
   "cell_type": "markdown",
   "id": "b5828511",
   "metadata": {},
   "source": [
    "# Write a program that reads 2 numbers and print their + - * / computations  Do good testing for your code E.g. consider negative values E.g. even and odd values E.g. consider zero as first or 2nd number\n"
   ]
  },
  {
   "cell_type": "code",
   "execution_count": 3,
   "id": "02790ea2",
   "metadata": {},
   "outputs": [
    {
     "name": "stdout",
     "output_type": "stream",
     "text": [
      "Enter first number: 6\n",
      "Enter second number: 4\n",
      "The sum of 6 and 4 is 10.0\n",
      "The quotient  of 6 and 4 is 1.5\n",
      "The sub  of 6 and 4 is 2.0\n",
      "The multi of 6 and 4 is 24.0\n",
      "END OF PROGRAM\n"
     ]
    }
   ],
   "source": [
    "# Store input numbers\n",
    "num1 = input('Enter first number: ')\n",
    "num2 = input('Enter second number: ')\n",
    "\n",
    "# Add two numbers\n",
    "sum = float(num1) + float(num2)\n",
    "\n",
    "#quotient ‘/’ two numbers\n",
    "quotient = float(num1) / float(num2)\n",
    "\n",
    "#sub ‘-’ two numbers\n",
    "sub = float(num1) - float(num2)\n",
    "\n",
    "#multi ‘*’ two numbers\n",
    "multi = float(num1) * float(num2)\n",
    "\n",
    "# Display \n",
    "print('The sum of {0} and {1} is {2}'.format(num1, num2, sum))\n",
    "print('The quotient  of {0} and {1} is {2}'.format(num1, num2, quotient ))\n",
    "print('The sub  of {0} and {1} is {2}'.format(num1, num2, sub ))\n",
    "print('The multi of {0} and {1} is {2}'.format(num1, num2, multi ))\n",
    "print('END OF PROGRAM')"
   ]
  },
  {
   "cell_type": "markdown",
   "id": "f76a3d5c",
   "metadata": {},
   "source": [
    "# Homework 2: Students grades:"
   ]
  },
  {
   "cell_type": "markdown",
   "id": "4836bf71",
   "metadata": {},
   "source": [
    "# Write a program that reads 2 students information about math exam For each student read: his name, id and grade Print the students Print the grades average\n"
   ]
  },
  {
   "cell_type": "code",
   "execution_count": 2,
   "id": "866de082",
   "metadata": {},
   "outputs": [
    {
     "name": "stdout",
     "output_type": "stream",
     "text": [
      "enter the first students name: mayar\n",
      "enter the first students ID: 1910813\n",
      "enter the first students grade: 20\n",
      "enter the second students name: monika\n",
      "enter the second students ID: 1910542\n",
      "enter the second students grade: 50\n",
      "information for students and their \"math\" grades: \n",
      " mayar 1910813 got grade: 20\n",
      " monika 1910542 got grade: 50\n",
      "Average math grade is 35.0\n"
     ]
    }
   ],
   "source": [
    "x=str(input('enter the first students name: '))\n",
    "y=int(input('enter the first students ID: '))   \n",
    "z=float(input('enter the first students grade: '))  \n",
    "\n",
    "m=str(input('enter the second students name: '))\n",
    "a=int(input('enter the second students ID: '))   \n",
    "n=float(input('enter the second students grade: '))  \n",
    "\n",
    "print('information for students and their \"math\" grades: ')\n",
    "\n",
    "print(' {0} {1} got grade: {2}'.format(x, y,z))\n",
    "print(' {0} {1} got grade: {2}'.format(m, a,n)) \n",
    "print('Average math grade is',(z+n)/2)"
   ]
  },
  {
   "cell_type": "markdown",
   "id": "ee900c8f",
   "metadata": {},
   "source": [
    "# Homework 3: Even and Odd sum Given 8 space-separated integers, find the sum of those in even places and  the sum of those in odd places. Note: Even place means the 2nd, 4th, 6th or 8th numbers,  odd places are the 1st, 3rd, 5th and 7th numbers.\n"
   ]
  },
  {
   "cell_type": "code",
   "execution_count": 17,
   "id": "719390d9",
   "metadata": {},
   "outputs": [
    {
     "name": "stdout",
     "output_type": "stream",
     "text": [
      "Please enter the Total Number of List Elements: 5\n",
      "Please enter the Value of 1 Element : 2\n",
      "Please enter the Value of 2 Element : 4\n",
      "Please enter the Value of 3 Element : 1\n",
      "Please enter the Value of 4 Element : 3\n",
      "Please enter the Value of 5 Element : 7\n",
      "\n",
      "The Sum of Even Numbers in this List =   6\n",
      "The Sum of Odd Numbers in this List =   11\n"
     ]
    }
   ],
   "source": [
    "NumList = []\n",
    "Even_Sum = 0\n",
    "Odd_Sum = 0\n",
    "j = 0\n",
    "\n",
    "Number = int(input(\"Please enter the Total Number of List Elements: \"))\n",
    "for i in range(1, Number + 1):\n",
    "    value = int(input(\"Please enter the Value of %d Element : \" %i))\n",
    "    NumList.append(value)\n",
    "\n",
    "while(j < Number):\n",
    "    if(NumList[j] % 2 == 0):\n",
    "        Even_Sum = Even_Sum + NumList[j]\n",
    "    else:\n",
    "        Odd_Sum = Odd_Sum + NumList[j]\n",
    "    j = j+ 1\n",
    "\n",
    "print(\"\\nThe Sum of Even Numbers in this List =  \", Even_Sum)\n",
    "print(\"The Sum of Odd Numbers in this List =  \", Odd_Sum)"
   ]
  },
  {
   "cell_type": "code",
   "execution_count": 18,
   "id": "e96ab474",
   "metadata": {},
   "outputs": [
    {
     "name": "stdout",
     "output_type": "stream",
     "text": [
      "25\n",
      "30\n"
     ]
    }
   ],
   "source": [
    "EvenSum=0\n",
    "OddSum=0\n",
    "mylist=[1,2,3,4,5,6,7,8,9,10]\n",
    "for i in range(len(mylist)):\n",
    "    if i%2==0:\n",
    "\n",
    "        EvenSum+=mylist[i]\n",
    "\n",
    "    else:\n",
    "\n",
    "        OddSum+=mylist[i]\n",
    "print(EvenSum)\n",
    "\n",
    "print(OddSum)"
   ]
  },
  {
   "cell_type": "markdown",
   "id": "e3dc7b7b",
   "metadata": {},
   "source": [
    "# Homework #4: Special concatenation   Write a program that read 3 strings. For simplicity let’s say input is 3 letters A, B and C The output is A’B”C repeated 10 times\n"
   ]
  },
  {
   "cell_type": "code",
   "execution_count": 35,
   "id": "77984f05",
   "metadata": {},
   "outputs": [
    {
     "name": "stdout",
     "output_type": "stream",
     "text": [
      "enter your 1st sentenceA\n",
      "enter your 2nd sentenceB\n",
      "enter your 3rd sentenceC\n",
      "enter number of repition10\n",
      "A'B''CA'B''CA'B''CA'B''CA'B''CA'B''CA'B''CA'B''CA'B''CA'B''C\n"
     ]
    }
   ],
   "source": [
    "a=str(input(\"enter your 1st sentence\"))\n",
    "b=str(input(\"enter your 2nd sentence\"))\n",
    "c=str(input(\"enter your 3rd sentence\"))\n",
    "x=int(input(\"enter number of repition\"))\n",
    "v= x*(a+\"'\"+b+\"''\"+c)\n",
    "print(v)"
   ]
  },
  {
   "cell_type": "markdown",
   "id": "e9eba5a1",
   "metadata": {},
   "source": [
    "# Homework 5: Swapping 2 numbers! Write a program that reads 2 integers num1 and num2 E.g. say we read num1 = 7 and num2 = 25 Target: we want swap the values of num1 and num2?\n"
   ]
  },
  {
   "cell_type": "code",
   "execution_count": 40,
   "id": "150f8e9b",
   "metadata": {},
   "outputs": [
    {
     "name": "stdout",
     "output_type": "stream",
     "text": [
      "3 7\n",
      "7 3\n"
     ]
    }
   ],
   "source": [
    "x, y= map(int, input().split())\n",
    "print(y,x)"
   ]
  },
  {
   "cell_type": "code",
   "execution_count": 45,
   "id": "77c33980",
   "metadata": {},
   "outputs": [
    {
     "name": "stdout",
     "output_type": "stream",
     "text": [
      "5  9\n",
      "9 5\n"
     ]
    }
   ],
   "source": [
    "x, y= map(int, input().split())\n",
    "x, y = y, x\n",
    "print(x,y)"
   ]
  },
  {
   "cell_type": "code",
   "execution_count": null,
   "id": "8e326261",
   "metadata": {},
   "outputs": [],
   "source": []
  },
  {
   "cell_type": "code",
   "execution_count": null,
   "id": "de0463c8",
   "metadata": {},
   "outputs": [],
   "source": []
  }
 ],
 "metadata": {
  "kernelspec": {
   "display_name": "Python 3",
   "language": "python",
   "name": "python3"
  },
  "language_info": {
   "codemirror_mode": {
    "name": "ipython",
    "version": 3
   },
   "file_extension": ".py",
   "mimetype": "text/x-python",
   "name": "python",
   "nbconvert_exporter": "python",
   "pygments_lexer": "ipython3",
   "version": "3.8.8"
  }
 },
 "nbformat": 4,
 "nbformat_minor": 5
}
