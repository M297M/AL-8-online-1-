{
 "cells": [
  {
   "cell_type": "code",
   "execution_count": 3,
   "id": "b045bb0f",
   "metadata": {},
   "outputs": [
    {
     "name": "stdout",
     "output_type": "stream",
     "text": [
      "enter the start: 3 \n",
      "enter the end: 7\n",
      "3\n",
      "4\n",
      "5\n",
      "6\n",
      "7\n"
     ]
    }
   ],
   "source": [
    "x,y=int(input(\"enter the start: \")),int(input(\"enter the end: \"))\n",
    "for i in range(x,y+1):\n",
    "    print(i)"
   ]
  },
  {
   "cell_type": "code",
   "execution_count": 4,
   "id": "ea1b52bc",
   "metadata": {},
   "outputs": [
    {
     "name": "stdout",
     "output_type": "stream",
     "text": [
      "enter the number : 6\n",
      "enter the string : Hi\n",
      "HiHiHiHiHiHi\n"
     ]
    }
   ],
   "source": [
    "n,s=int(input(\"enter the number : \")),input(\"enter the string : \")\n",
    "summ=\"\"\n",
    "i=0\n",
    "while i<n :\n",
    "    summ+=s\n",
    "    i+=1\n",
    "print(summ)"
   ]
  },
  {
   "cell_type": "code",
   "execution_count": 5,
   "id": "7375c43c",
   "metadata": {},
   "outputs": [
    {
     "name": "stdout",
     "output_type": "stream",
     "text": [
      "6\n",
      "******\n",
      "*****\n",
      "****\n",
      "***\n",
      "**\n",
      "*\n"
     ]
    }
   ],
   "source": [
    "n=int(input())\n",
    "i=1\n",
    "while i<n+1 :\n",
    "    print(\"*\"*(n+1-i))\n",
    "    i+=1"
   ]
  },
  {
   "cell_type": "code",
   "execution_count": 6,
   "id": "ea66467b",
   "metadata": {},
   "outputs": [
    {
     "name": "stdout",
     "output_type": "stream",
     "text": [
      "10\n",
      "20\n",
      "30\n",
      "3\n",
      "60\n",
      "44\n",
      "21\n",
      "90\n",
      "88\n",
      "56\n",
      "98\n",
      "avr of even : 59.4 \n",
      "avr of odd : 42.6\n"
     ]
    }
   ],
   "source": [
    "n=int(input())\n",
    "sumeven,sumodd=0,0\n",
    "for i in range (1,n+1):\n",
    "    x=int(input(\"\"))\n",
    "    if i%2==0 :\n",
    "        sumeven+=x\n",
    "        avrofeven = sumeven / (i/2)\n",
    "    else:\n",
    "        sumodd+=x\n",
    "        avrofodd = sumodd / ((i+1)/2)\n",
    "print(\"avr of even : {} \\navr of odd : {}\".format(avrofeven,avrofodd))"
   ]
  },
  {
   "cell_type": "code",
   "execution_count": null,
   "id": "40736f6f",
   "metadata": {},
   "outputs": [],
   "source": []
  }
 ],
 "metadata": {
  "kernelspec": {
   "display_name": "Python 3",
   "language": "python",
   "name": "python3"
  },
  "language_info": {
   "codemirror_mode": {
    "name": "ipython",
    "version": 3
   },
   "file_extension": ".py",
   "mimetype": "text/x-python",
   "name": "python",
   "nbconvert_exporter": "python",
   "pygments_lexer": "ipython3",
   "version": "3.8.8"
  }
 },
 "nbformat": 4,
 "nbformat_minor": 5
}
